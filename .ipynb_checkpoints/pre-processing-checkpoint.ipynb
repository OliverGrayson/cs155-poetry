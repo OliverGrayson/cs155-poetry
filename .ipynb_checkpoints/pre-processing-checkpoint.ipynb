{
 "cells": [
  {
   "cell_type": "code",
   "execution_count": 1,
   "metadata": {},
   "outputs": [],
   "source": [
    "import string"
   ]
  },
  {
   "cell_type": "markdown",
   "metadata": {},
   "source": [
    "Let's first pre-process the data to get rid of all punctuation and make them all lowercase. We'll keep hyphens in, as the syllable dictionary keeps them in. First, we'll make each line a sequence. "
   ]
  },
  {
   "cell_type": "code",
   "execution_count": 6,
   "metadata": {},
   "outputs": [],
   "source": [
    "shakes_lines = []\n",
    "with open(\"data/shakespeare.txt\") as f:\n",
    "    # Read in all lines\n",
    "    lines = f.readlines()\n",
    "    for line in lines:\n",
    "        seq = line.strip()\n",
    "        # remove punctuation\n",
    "        seq = seq.translate(str.maketrans('', '', string.punctuation.replace(\"'\", \"\").replace(\"-\", \"\")))\n",
    "        # make lowercase\n",
    "        seq = seq.lower()\n",
    "        # get rid of blank lines and numbers\n",
    "        if len(seq) <= 3:\n",
    "            continue\n",
    "        #print(seq)\n",
    "        shakes_lines.append(seq)\n",
    "f.close()"
   ]
  },
  {
   "cell_type": "code",
   "execution_count": 14,
   "metadata": {},
   "outputs": [],
   "source": [
    "spense_lines = []\n",
    "with open(\"data/spenser.txt\") as f:\n",
    "    # Read in all lines\n",
    "    lines = f.readlines()\n",
    "    for line in lines:\n",
    "        seq = line.strip()\n",
    "        # remove punctuation\n",
    "        seq = seq.translate(str.maketrans('', '', string.punctuation.replace(\"'\", \"\").replace(\"-\", \"\")))\n",
    "        # make lowercase\n",
    "        seq = seq.lower()\n",
    "        # get rid of blank lines and numbers\n",
    "        if len(seq) <= 10:\n",
    "            continue\n",
    "        #print(seq)\n",
    "        spense_lines.append(seq)\n",
    "f.close()"
   ]
  },
  {
   "cell_type": "markdown",
   "metadata": {},
   "source": [
    "Now, we'll make each stanza a sequence. I added an extra blank line after the last stanza in each file, so that the last stanza will be read in."
   ]
  },
  {
   "cell_type": "code",
   "execution_count": 10,
   "metadata": {},
   "outputs": [],
   "source": [
    "shakes_stanzas = []\n",
    "stanza = \"\"\n",
    "with open(\"data/shakespeare.txt\") as f:\n",
    "    # Read in all stanzas\n",
    "    lines = f.readlines()\n",
    "    for line in lines:\n",
    "        seq = line.strip()\n",
    "        # remove punctuation\n",
    "        seq = seq.translate(str.maketrans('', '', string.punctuation.replace(\"'\", \"\").replace(\"-\", \"\")))\n",
    "        # make lowercase\n",
    "        seq = seq.lower()\n",
    "        # get rid of blank lines and numbers\n",
    "        if len(seq) <= 3 and len(stanza) == 0:\n",
    "            continue\n",
    "        # if this is the first time we've encountered a blank line, append the stanza\n",
    "        elif len(seq) <= 3:\n",
    "            shakes_stanzas.append(stanza)\n",
    "            #print(stanza)\n",
    "            stanza = \"\"\n",
    "        else:\n",
    "            stanza = stanza + seq + \" \"\n",
    "f.close()"
   ]
  },
  {
   "cell_type": "code",
   "execution_count": 18,
   "metadata": {},
   "outputs": [],
   "source": [
    "spense_stanzas = []\n",
    "stanza = \"\"\n",
    "with open(\"data/spenser.txt\") as f:\n",
    "    # Read in all stanzas\n",
    "    lines = f.readlines()\n",
    "    for line in lines:\n",
    "        seq = line.strip()\n",
    "        # remove punctuation\n",
    "        seq = seq.translate(str.maketrans('', '', string.punctuation.replace(\"'\", \"\").replace(\"-\", \"\")))\n",
    "        # make lowercase\n",
    "        seq = seq.lower()\n",
    "        # get rid of blank lines and numbers\n",
    "        if len(seq) <= 10 and len(stanza) == 0:\n",
    "            continue\n",
    "        # if this is the first time we've encountered a blank line, append the stanza\n",
    "        elif len(seq) <= 10:\n",
    "            spense_stanzas.append(stanza)\n",
    "            #print(stanza)\n",
    "            stanza = \"\"\n",
    "        else:\n",
    "            stanza = stanza + seq + \" \"\n",
    "f.close()"
   ]
  },
  {
   "cell_type": "code",
   "execution_count": null,
   "metadata": {},
   "outputs": [],
   "source": []
  }
 ],
 "metadata": {
  "kernelspec": {
   "display_name": "Python 3",
   "language": "python",
   "name": "python3"
  },
  "language_info": {
   "codemirror_mode": {
    "name": "ipython",
    "version": 3
   },
   "file_extension": ".py",
   "mimetype": "text/x-python",
   "name": "python",
   "nbconvert_exporter": "python",
   "pygments_lexer": "ipython3",
   "version": "3.7.6"
  }
 },
 "nbformat": 4,
 "nbformat_minor": 2
}
