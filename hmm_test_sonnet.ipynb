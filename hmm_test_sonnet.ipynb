{
 "cells": [
  {
   "cell_type": "code",
   "execution_count": 1,
   "metadata": {},
   "outputs": [],
   "source": [
    "import data_preprocess as data\n",
    "from HMM import unsupervised_HMM\n",
    "from HMM_sonnet_helper import sample_sonnet"
   ]
  },
  {
   "cell_type": "code",
   "execution_count": 2,
   "metadata": {},
   "outputs": [],
   "source": [
    "obs, obs_map = data.get_shakes_lines()"
   ]
  },
  {
   "cell_type": "markdown",
   "metadata": {},
   "source": [
    "Let's test different number of states, first using 50 iterations"
   ]
  },
  {
   "cell_type": "code",
   "execution_count": 3,
   "metadata": {},
   "outputs": [
    {
     "name": "stderr",
     "output_type": "stream",
     "text": [
      "100%|██████████████████████████████████████████████████████████████████████████████████| 50/50 [01:37<00:00,  1.96s/it]\n"
     ]
    },
    {
     "name": "stdout",
     "output_type": "stream",
     "text": [
      "Which frown why and natures beauty to kill\n",
      "When all my brain pays why as my believed\n",
      "Which with him of a nature being lovst\n",
      "Ere give require crossed something lines hence then\n",
      "Proves though this that deep and puts olives by\n",
      "Bright of muse determined bequest near\n",
      "How to crying belongs sail of shall love\n",
      "By it no come mind a hath a beauty\n",
      "Best woe creatures the desire in trial\n",
      "And the for i she my pity art what\n",
      "Which i war exceeds not grace unless we\n",
      "Yet of my morning thine might world report\n",
      "That thy makeless where sweet of fortune this\n",
      "Face the use to thy graces can muse the\n",
      "\n"
     ]
    }
   ],
   "source": [
    "hmm10_50 = unsupervised_HMM(obs, 10, 50)\n",
    "sample_sonnet(hmm10_50, obs_map)"
   ]
  },
  {
   "cell_type": "code",
   "execution_count": 4,
   "metadata": {},
   "outputs": [
    {
     "name": "stderr",
     "output_type": "stream",
     "text": [
      "100%|██████████████████████████████████████████████████████████████████████████████████| 50/50 [09:03<00:00, 10.88s/it]\n"
     ]
    },
    {
     "name": "stdout",
     "output_type": "stream",
     "text": [
      "My picture state lies thine every trial\n",
      "Sway treasure of thou art you self quite of\n",
      "Lovely to removed despite tempting me\n",
      "To duty part to my these every the\n",
      "Rare now bide in the boy than for record\n",
      "A far no outright friends eyes oertake heart\n",
      "And time mine and the statute of mightier\n",
      "One for his love let alone father and\n",
      "Captive confine him in a my body\n",
      "Live past i be dispense of seemed woe is\n",
      "Life though die wink impanelled thou her\n",
      "Then gracious who your those dead to writ would\n",
      "A antique strangle bait like dost nothing\n",
      "And disgrace soul for disdain from my might\n",
      "\n"
     ]
    }
   ],
   "source": [
    "hmm25_50 = unsupervised_HMM(obs, 25, 50)\n",
    "sample_sonnet(hmm25_50, obs_map)"
   ]
  },
  {
   "cell_type": "code",
   "execution_count": 5,
   "metadata": {},
   "outputs": [
    {
     "name": "stderr",
     "output_type": "stream",
     "text": [
      "100%|██████████████████████████████████████████████████████████████████████████████████| 50/50 [34:28<00:00, 41.38s/it]\n"
     ]
    },
    {
     "name": "stdout",
     "output_type": "stream",
     "text": [
      "Beauty of my sake tender half and shall\n",
      "Story be best canst to change away thy\n",
      "My love hath to his memory will grind\n",
      "Look in is young rare memory define\n",
      "I with live crossed thy self vouchsafe to night\n",
      "To record consecrate made neigh thy heart\n",
      "Resembling my verse growst rotten for day\n",
      "Tis dull thievish which marble neglect thou\n",
      "Lo if every inward of up both scythe\n",
      "Sweet away can for loves when thou heaven\n",
      "Out take seek thou suborned time shall be all\n",
      "In this day do to outlive free my love\n",
      "O let husband were famine to loathsome\n",
      "Suretylike level had doth lame gored my\n",
      "\n"
     ]
    }
   ],
   "source": [
    "hmm50_50 = unsupervised_HMM(obs, 50, 50)\n",
    "sample_sonnet(hmm50_50, obs_map)"
   ]
  },
  {
   "cell_type": "code",
   "execution_count": 6,
   "metadata": {},
   "outputs": [
    {
     "name": "stderr",
     "output_type": "stream",
     "text": [
      "100%|███████████████████████████████████████████████████████████████████████████████| 50/50 [2:03:01<00:00, 147.64s/it]\n"
     ]
    },
    {
     "name": "stdout",
     "output_type": "stream",
     "text": [
      "Express their i hues eyes not my object\n",
      "Here my figure though rather well change shall\n",
      "How sort to not his the glowing of the\n",
      "Gracious making afterwards i away\n",
      "Loving feast to thee self seeting records\n",
      "Make truth not thy shadows praise still treason\n",
      "Since you to my old spent virtue only\n",
      "Clear had in thee day mightier plot which i\n",
      "Then when bosoms cannot thine are thy gross\n",
      "Wrackful burden yet in my mistress doth\n",
      "Others basest doth looking to love times\n",
      "Eyes grow things bier decrepit case to that\n",
      "Of happy dateless lively singleness\n",
      "Hand skill and thou jump this trenches with praise\n",
      "\n"
     ]
    }
   ],
   "source": [
    "hmm100_50 = unsupervised_HMM(obs, 100, 50)\n",
    "sample_sonnet(hmm100_50, obs_map)"
   ]
  },
  {
   "cell_type": "markdown",
   "metadata": {},
   "source": [
    "Now let's test over a wider range of states using a smaller number of iterations. Let's use 10 iterations"
   ]
  },
  {
   "cell_type": "code",
   "execution_count": 7,
   "metadata": {},
   "outputs": [
    {
     "name": "stderr",
     "output_type": "stream",
     "text": [
      "100%|██████████████████████████████████████████████████████████████████████████████████| 10/10 [00:19<00:00,  1.92s/it]\n"
     ]
    },
    {
     "name": "stdout",
     "output_type": "stream",
     "text": [
      "And beauty in false duteous sin curious\n",
      "New thee not policy beauty that bright\n",
      "Poorly touches journey the are me my\n",
      "Or pilgrimage thine new new dead my i\n",
      "Of state anothers but wet if he my\n",
      "Hatred self some glass will eternity\n",
      "Still heart hath to not winters to state am\n",
      "Thou find that unless thou lest beauteous to\n",
      "And if thou beams chronicle badness i\n",
      "For yet i eager place or eye but to\n",
      "Jacks infants confounds i i care fiend shake\n",
      "Still the toil groans nor chide refusest my\n",
      "A words shall doth vilest my monument\n",
      "Live me belong make i more then her their\n",
      "\n"
     ]
    }
   ],
   "source": [
    "hmm10 = unsupervised_HMM(obs, 10, 10)\n",
    "sample_sonnet(hmm10, obs_map)"
   ]
  },
  {
   "cell_type": "code",
   "execution_count": 8,
   "metadata": {},
   "outputs": [
    {
     "name": "stderr",
     "output_type": "stream",
     "text": [
      "100%|█████████████████████████████████████████████████████████████████████████████████| 10/10 [23:36<00:00, 141.69s/it]\n"
     ]
    },
    {
     "name": "stdout",
     "output_type": "stream",
     "text": [
      "No water accusing free summers black\n",
      "Bewailed rest with treasure invention\n",
      "To be policy taken as proud sweet\n",
      "Up as numbers will self frame recured her\n",
      "Art timebettering to death pride of with by\n",
      "To fortunes and growing even then tied\n",
      "I mind pay cold though sometime faults forth wert\n",
      "Her put fall sworn death i up living art\n",
      "Veil so to how to treasure thrive alone\n",
      "Gave of are my to robbery will thee bear\n",
      "Be felt done then to assistance breast by\n",
      "Dear in prone when use that though bareness with\n",
      "Wing you how wane thy morning carcanet\n",
      "Rose upon nothing your it worth i what\n",
      "\n"
     ]
    }
   ],
   "source": [
    "hmm100 = unsupervised_HMM(obs, 100, 10)\n",
    "sample_sonnet(hmm100, obs_map)"
   ]
  },
  {
   "cell_type": "code",
   "execution_count": 5,
   "metadata": {},
   "outputs": [
    {
     "name": "stderr",
     "output_type": "stream",
     "text": [
      "100%|███████████████████████████████████████████████████████████████████████████████| 10/10 [1:49:14<00:00, 655.46s/it]\n"
     ]
    },
    {
     "name": "stdout",
     "output_type": "stream",
     "text": [
      "In full thee tract something with if sweet hang\n",
      "In doth upon wrong extreme those of it\n",
      "Account herald no poverty what do\n",
      "Thou is beauty and when than against till\n",
      "One as reason better league her water\n",
      "Love her worlds if a and afloat bear trust\n",
      "Thou lesson summer best are thy although\n",
      "Pardon stickst spirit but expire survive\n",
      "Better creep that brain held see forbid once\n",
      "All i and an flies the absent as of\n",
      "To that on measured back to hearts he can\n",
      "Beard busy or on that scope some all so\n",
      "Never hate in new that prevent of my\n",
      "Truths glory crowned make say thee breath date\n",
      "\n"
     ]
    }
   ],
   "source": [
    "hmm200 = unsupervised_HMM(obs, 200, 10)\n",
    "sample_sonnet(hmm200, obs_map)"
   ]
  },
  {
   "cell_type": "markdown",
   "metadata": {},
   "source": [
    "Now let's try different numbers of iterations. Let's use only 5 states"
   ]
  },
  {
   "cell_type": "code",
   "execution_count": 3,
   "metadata": {},
   "outputs": [
    {
     "name": "stderr",
     "output_type": "stream",
     "text": [
      "100%|██████████████████████████████████████████████████████████████████████████████████| 10/10 [00:07<00:00,  1.39it/s]\n"
     ]
    },
    {
     "name": "stdout",
     "output_type": "stream",
     "text": [
      "In thou pleasure keen the be left thy so\n",
      "Esteemed with come she far him resembling\n",
      "Dumb of art best come his mistress o eye\n",
      "More a smiling glory for how hand these\n",
      "Hearing shadow lives far loves temptation\n",
      "Times to those gift things best your ghastly power\n",
      "Did is please gentle find the even that\n",
      "Offenders could doth overpartial were\n",
      "Tongue if haply come their beauty might know\n",
      "Or desperate when prey spur change love look the\n",
      "Me speed thou self breathe will his bodys took\n",
      "It wouldst away decrepit nor a for\n",
      "Cold more forgot longer bad pretty of\n",
      "Object now others live did men sighs thy\n",
      "\n"
     ]
    }
   ],
   "source": [
    "hmm10iter = unsupervised_HMM(obs, 5, 10)\n",
    "sample_sonnet(hmm10iter, obs_map)"
   ]
  },
  {
   "cell_type": "code",
   "execution_count": 4,
   "metadata": {},
   "outputs": [
    {
     "name": "stderr",
     "output_type": "stream",
     "text": [
      "100%|██████████████████████████████████████████████████████████████████████████████████| 50/50 [00:38<00:00,  1.31it/s]\n"
     ]
    },
    {
     "name": "stdout",
     "output_type": "stream",
     "text": [
      "To my still death played the love methinks on\n",
      "Beauty thou proves being life i his you\n",
      "Brass and vowed of not done conquest upon\n",
      "Tells with blest by proving light kill of you\n",
      "Knew in private nor since although against\n",
      "One painting my suggest and let afloat\n",
      "Unused without thy dead to dost by\n",
      "You his nature whole and with me my now\n",
      "And can am general i says love to\n",
      "Eternal complexion look self eyes see\n",
      "Colour doth one is ages thee yet till\n",
      "But and my husbandry steal with well of\n",
      "And worthless lie forgot canst deeds woman\n",
      "Adders outward fair am frame as that i\n",
      "\n"
     ]
    }
   ],
   "source": [
    "hmm50iter = unsupervised_HMM(obs, 5, 50)\n",
    "sample_sonnet(hmm50iter, obs_map)"
   ]
  },
  {
   "cell_type": "code",
   "execution_count": 5,
   "metadata": {},
   "outputs": [
    {
     "name": "stderr",
     "output_type": "stream",
     "text": [
      "100%|████████████████████████████████████████████████████████████████████████████████| 100/100 [01:16<00:00,  1.31it/s]\n"
     ]
    },
    {
     "name": "stdout",
     "output_type": "stream",
     "text": [
      "That air compared with the long age to more\n",
      "Humble and tallies something of painted\n",
      "Yet memory all this home thou she on\n",
      "Are and in gentle by closure thine my\n",
      "Of of sure beauty to in inhabit\n",
      "Your make must as be envy dead knowst must\n",
      "And thee against me thing love thy be die\n",
      "Seeing could vanishing accessary\n",
      "With welcome for my night vision tend so\n",
      "Still given arrest to thy pitch victors\n",
      "I yet flatter the old assemble all\n",
      "Write faults even transport more morning than\n",
      "Time not to dead it disgrace fears me wound\n",
      "My pen and wilt i doth darkening my wrong\n",
      "\n"
     ]
    }
   ],
   "source": [
    "hmm100iter = unsupervised_HMM(obs, 5, 100)\n",
    "sample_sonnet(hmm100iter, obs_map)"
   ]
  },
  {
   "cell_type": "code",
   "execution_count": 6,
   "metadata": {},
   "outputs": [
    {
     "name": "stderr",
     "output_type": "stream",
     "text": [
      "100%|████████████████████████████████████████████████████████████████████████████████| 500/500 [06:30<00:00,  1.28it/s]\n"
     ]
    },
    {
     "name": "stdout",
     "output_type": "stream",
     "text": [
      "All for i how strong know her disdains the\n",
      "Times mine for before is you i of a\n",
      "Loved aright thou as any story treads\n",
      "Own beauty presagers from water with\n",
      "Write tender the you and is your petty\n",
      "Blessed this what still define yet found the\n",
      "Voice hate thou my memory therefore hearst\n",
      "In remains without my beauties husband\n",
      "Speed tyrannous in a maladies that\n",
      "Till to thee madding that never conceit\n",
      "Thy a he plea that against your my looks\n",
      "You either thee such my flesh themselves so\n",
      "On for of off remain best in the will\n",
      "Alchemy could as let for as you plagues\n",
      "\n"
     ]
    }
   ],
   "source": [
    "hmm500iter = unsupervised_HMM(obs, 5, 500)\n",
    "sample_sonnet(hmm500iter, obs_map)"
   ]
  },
  {
   "cell_type": "code",
   "execution_count": 7,
   "metadata": {},
   "outputs": [
    {
     "name": "stderr",
     "output_type": "stream",
     "text": [
      "100%|██████████████████████████████████████████████████████████████████████████████| 1000/1000 [13:33<00:00,  1.23it/s]\n"
     ]
    },
    {
     "name": "stdout",
     "output_type": "stream",
     "text": [
      "Yet me meetness help spent i what read the\n",
      "Wealth for but a scythe which in constancy\n",
      "Worlds merit of wear jade dove now are then\n",
      "Death hand been yet quite that pity of theirs\n",
      "All gilded love of back for creature as\n",
      "That know for every the imprisoned fair\n",
      "For thy wastes annoy discontent i putst\n",
      "Or none thee and thy acquaintance being\n",
      "Was desire love boast brass mind do heaven\n",
      "With worms be annexed made my choirs hath thou\n",
      "Going me love it be scope thinks in truth\n",
      "At thy bosom in there think i i where\n",
      "His why on i won with even not with\n",
      "End fortune that after was the the was\n",
      "\n"
     ]
    }
   ],
   "source": [
    "hmm1000iter = unsupervised_HMM(obs, 5, 1000)\n",
    "sample_sonnet(hmm1000iter, obs_map)"
   ]
  },
  {
   "cell_type": "code",
   "execution_count": 8,
   "metadata": {},
   "outputs": [
    {
     "name": "stderr",
     "output_type": "stream",
     "text": [
      "100%|████████████████████████████████████████████████████████████████████████████| 5000/5000 [1:00:39<00:00,  1.37it/s]\n"
     ]
    },
    {
     "name": "stdout",
     "output_type": "stream",
     "text": [
      "Tyrants his think on me good have so be\n",
      "Is when to not thine am with ordering\n",
      "Stay monarchs the have swayst surfeit of a\n",
      "To thy was copy art painted honour\n",
      "This behold from woe this bell what his so\n",
      "Compare character of blind chide the help\n",
      "Or nay ever is majesty it and\n",
      "By cannot belong though my eye and tell\n",
      "Shifting thou oft scythe all painter and on\n",
      "For strange noted thou stoln interim a spoils\n",
      "Send cruel than gentle tomb you be now\n",
      "On razed all times love day am than grace\n",
      "Our free hang he height all lacked his not\n",
      "Fair in rondure blots with me mother my\n",
      "\n"
     ]
    }
   ],
   "source": [
    "hmm5000iter = unsupervised_HMM(obs, 5, 5000)\n",
    "sample_sonnet(hmm5000iter, obs_map)"
   ]
  },
  {
   "cell_type": "code",
   "execution_count": 9,
   "metadata": {},
   "outputs": [
    {
     "name": "stderr",
     "output_type": "stream",
     "text": [
      "100%|██████████████████████████████████████████████████████████████████████████| 10000/10000 [2:25:20<00:00,  1.15it/s]\n"
     ]
    },
    {
     "name": "stdout",
     "output_type": "stream",
     "text": [
      "The entitled but not thou i pleasure\n",
      "Thou with straight doth easy more i banquet\n",
      "Still late my sight loved illused these grew use\n",
      "Well sums of thy wind absence as and doth\n",
      "Souls and of days doth she because shall do\n",
      "Make bloody is i is wound to let by\n",
      "Lines dost red me mayst some my spirit poor\n",
      "The right judgments than one spirit vex are\n",
      "His devil with have plot lose bosom that\n",
      "Still my beauty and a adonis thou\n",
      "The age when sullied life be my heart wouldst\n",
      "Fear sooner their air must as thy blind and\n",
      "Fragrant and change seem my green that despair\n",
      "Which since flesh among bitterness windows\n",
      "\n"
     ]
    }
   ],
   "source": [
    "hmm10000iter = unsupervised_HMM(obs, 5, 10000)\n",
    "sample_sonnet(hmm10000iter, obs_map)"
   ]
  },
  {
   "cell_type": "code",
   "execution_count": null,
   "metadata": {},
   "outputs": [],
   "source": []
  }
 ],
 "metadata": {
  "kernelspec": {
   "display_name": "Python 3",
   "language": "python",
   "name": "python3"
  },
  "language_info": {
   "codemirror_mode": {
    "name": "ipython",
    "version": 3
   },
   "file_extension": ".py",
   "mimetype": "text/x-python",
   "name": "python",
   "nbconvert_exporter": "python",
   "pygments_lexer": "ipython3",
   "version": "3.7.4"
  }
 },
 "nbformat": 4,
 "nbformat_minor": 2
}
