{
 "cells": [
  {
   "cell_type": "code",
   "execution_count": 8,
   "metadata": {},
   "outputs": [],
   "source": [
    "import string\n",
    "import pronouncing"
   ]
  },
  {
   "cell_type": "markdown",
   "metadata": {},
   "source": [
    "Let's first pre-process the data to get rid of all punctuation and make them all lowercase. We'll keep hyphens in, as the syllable dictionary keeps them in. First, we'll make each line a sequence. "
   ]
  },
  {
   "cell_type": "code",
   "execution_count": 2,
   "metadata": {},
   "outputs": [],
   "source": [
    "shakes_lines = []\n",
    "with open(\"data/shakespeare.txt\") as f:\n",
    "    # Read in all lines\n",
    "    lines = f.readlines()\n",
    "    for line in lines:\n",
    "        seq = line.strip()\n",
    "        # remove punctuation\n",
    "        seq = seq.translate(str.maketrans('', '', string.punctuation.replace(\"'\", \"\").replace(\"-\", \"\")))\n",
    "        # make lowercase\n",
    "        seq = seq.lower()\n",
    "        # get rid of blank lines and numbers\n",
    "        if len(seq) <= 3:\n",
    "            continue\n",
    "        #print(seq)\n",
    "        shakes_lines.append(seq)\n",
    "f.close()"
   ]
  },
  {
   "cell_type": "code",
   "execution_count": 3,
   "metadata": {},
   "outputs": [],
   "source": [
    "spense_lines = []\n",
    "with open(\"data/spenser.txt\") as f:\n",
    "    # Read in all lines\n",
    "    lines = f.readlines()\n",
    "    for line in lines:\n",
    "        seq = line.strip()\n",
    "        # remove punctuation\n",
    "        seq = seq.translate(str.maketrans('', '', string.punctuation.replace(\"'\", \"\").replace(\"-\", \"\")))\n",
    "        # make lowercase\n",
    "        seq = seq.lower()\n",
    "        # get rid of blank lines and numbers\n",
    "        if len(seq) <= 10:\n",
    "            continue\n",
    "        #print(seq)\n",
    "        spense_lines.append(seq)\n",
    "f.close()"
   ]
  },
  {
   "cell_type": "markdown",
   "metadata": {},
   "source": [
    "Now, we'll make each sonnet a sequence. I added an extra blank line after the last stanza in each file, so that the last sonnet will be read in."
   ]
  },
  {
   "cell_type": "code",
   "execution_count": 4,
   "metadata": {},
   "outputs": [],
   "source": [
    "shakes_sonnet = []\n",
    "sonnet = \"\"\n",
    "with open(\"data/shakespeare.txt\") as f:\n",
    "    # Read in all sonnet\n",
    "    lines = f.readlines()\n",
    "    for line in lines:\n",
    "        seq = line.strip()\n",
    "        # remove punctuation\n",
    "        seq = seq.translate(str.maketrans('', '', string.punctuation.replace(\"'\", \"\").replace(\"-\", \"\")))\n",
    "        # make lowercase\n",
    "        seq = seq.lower()\n",
    "        # get rid of blank lines and numbers\n",
    "        if len(seq) <= 3 and len(sonnet) == 0:\n",
    "            continue\n",
    "        # if this is the first time we've encountered a blank line, append the stanza\n",
    "        elif len(seq) <= 3:\n",
    "            shakes_sonnet.append(sonnet)\n",
    "            #print(stanza)\n",
    "            sonnet = \"\"\n",
    "        else:\n",
    "            sonnet = sonnet + seq + \" \"\n",
    "f.close()"
   ]
  },
  {
   "cell_type": "code",
   "execution_count": 5,
   "metadata": {},
   "outputs": [],
   "source": [
    "spense_sonnet = []\n",
    "sonnet = \"\"\n",
    "with open(\"data/spenser.txt\") as f:\n",
    "    # Read in all sonnet\n",
    "    lines = f.readlines()\n",
    "    for line in lines:\n",
    "        seq = line.strip()\n",
    "        # remove punctuation\n",
    "        seq = seq.translate(str.maketrans('', '', string.punctuation.replace(\"'\", \"\").replace(\"-\", \"\")))\n",
    "        # make lowercase\n",
    "        seq = seq.lower()\n",
    "        # get rid of blank lines and numbers\n",
    "        if len(seq) <= 10 and len(sonnet) == 0:\n",
    "            continue\n",
    "        # if this is the first time we've encountered a blank line, append the stanza\n",
    "        elif len(seq) <= 10:\n",
    "            spense_sonnet.append(sonnet)\n",
    "            #print(stanza)\n",
    "            sonnet = \"\"\n",
    "        else:\n",
    "            sonnet = sonnet + seq + \" \"\n",
    "f.close()"
   ]
  },
  {
   "cell_type": "markdown",
   "metadata": {},
   "source": [
    "Now, let's convert the syllable dictionary to a dictionary. Each word is a key, and each value is a list of its syllable information. "
   ]
  },
  {
   "cell_type": "code",
   "execution_count": 6,
   "metadata": {
    "scrolled": true
   },
   "outputs": [],
   "source": [
    "syllable_dict = {}\n",
    "with open(\"data/Syllable_dictionary.txt\") as f:\n",
    "    # Read in all lines\n",
    "    lines = f.readlines()\n",
    "    for line in lines:\n",
    "        seq = line.strip().split()\n",
    "        # make first word a value in dictionary, and the rest as values\n",
    "        word = seq[0]\n",
    "        syllable_dict[word] = []\n",
    "        for syllable in seq[1:]:\n",
    "            syllable_dict[word].append(syllable)\n",
    "f.close()"
   ]
  },
  {
   "cell_type": "markdown",
   "metadata": {},
   "source": [
    "Now, let's make a rhyming dictionary for the Shakespeare sonnets. (UNFINISHED)"
   ]
  },
  {
   "cell_type": "code",
   "execution_count": null,
   "metadata": {},
   "outputs": [],
   "source": [
    "shakes_rhymes = {}\n",
    "with open(\"data/shakespeare.txt\") as f:\n",
    "    # Read in all lines\n",
    "    lines = f.readlines()\n",
    "    for line in lines:\n",
    "        seq = line.strip().split()\n",
    "        # last word is the rhyming word\n",
    "        word = seq[-1]\n",
    "        syllable_dict[word] = []\n",
    "        for syllable in seq[1:]:\n",
    "            syllable_dict[word].append(syllable)\n",
    "f.close()\n",
    "\n",
    "\n",
    "\n",
    "shakes_lines = []\n",
    "with open(\"data/shakespeare.txt\") as f:\n",
    "    # Read in all lines\n",
    "    lines = f.readlines()\n",
    "    for line in lines:\n",
    "        seq = line.strip()\n",
    "        # remove punctuation\n",
    "        seq = seq.translate(str.maketrans('', '', string.punctuation.replace(\"'\", \"\").replace(\"-\", \"\")))\n",
    "        # make lowercase\n",
    "        seq = seq.lower()\n",
    "        # get rid of blank lines and numbers\n",
    "        if len(seq) <= 3:\n",
    "            continue\n",
    "        #print(seq)\n",
    "        shakes_lines.append(seq)\n",
    "f.close()"
   ]
  },
  {
   "cell_type": "code",
   "execution_count": 40,
   "metadata": {},
   "outputs": [
    {
     "data": {
      "text/plain": [
       "[]"
      ]
     },
     "execution_count": 40,
     "metadata": {},
     "output_type": "execute_result"
    }
   ],
   "source": [
    "pronouncing.rhymes(\"month\")"
   ]
  },
  {
   "cell_type": "code",
   "execution_count": null,
   "metadata": {},
   "outputs": [],
   "source": []
  }
 ],
 "metadata": {
  "kernelspec": {
   "display_name": "Python 3",
   "language": "python",
   "name": "python3"
  },
  "language_info": {
   "codemirror_mode": {
    "name": "ipython",
    "version": 3
   },
   "file_extension": ".py",
   "mimetype": "text/x-python",
   "name": "python",
   "nbconvert_exporter": "python",
   "pygments_lexer": "ipython3",
   "version": "3.7.6"
  }
 },
 "nbformat": 4,
 "nbformat_minor": 4
}
