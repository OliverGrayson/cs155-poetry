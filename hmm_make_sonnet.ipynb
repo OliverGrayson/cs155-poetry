{
 "cells": [
  {
   "cell_type": "code",
   "execution_count": 1,
   "metadata": {},
   "outputs": [],
   "source": [
    "import data_preprocess as data\n",
    "from HMM import unsupervised_HMM\n",
    "from HMM_sonnet_helper import sample_sonnet"
   ]
  },
  {
   "cell_type": "code",
   "execution_count": 2,
   "metadata": {},
   "outputs": [],
   "source": [
    "obs, obs_map = data.get_shakes_lines()"
   ]
  },
  {
   "cell_type": "code",
   "execution_count": 3,
   "metadata": {},
   "outputs": [
    {
     "name": "stderr",
     "output_type": "stream",
     "text": [
      "100%|███████████████████████████████████████████████████████████████████████████| 1000/1000 [11:26:51<00:00, 41.21s/it]\n"
     ]
    }
   ],
   "source": [
    "hmm = unsupervised_HMM(obs, 50, 1000)"
   ]
  },
  {
   "cell_type": "code",
   "execution_count": 6,
   "metadata": {},
   "outputs": [
    {
     "name": "stdout",
     "output_type": "stream",
     "text": [
      "Answer best excuse anger bootless and\n",
      "Hath sequent daily i be that i fair\n",
      "To say my deeds to seek but awakes my\n",
      "Or give of to return part and i her\n",
      "Found to knows to becoming gavst thou pine\n",
      "His were i mercy thee civil thee hang\n",
      "Shall as thy thought if thy shadow to praise\n",
      "Thereby that and did virtue that silver\n",
      "Wrinkles own shames be i found my outward\n",
      "Speechless saucy sick with thy dearest from\n",
      "Keeps from hopes by this fair and the greater\n",
      "Barren invention passed weeds who guard more\n",
      "They conceit in times trust that i seek her\n",
      "My me with them lives their his vassal of\n",
      "\n"
     ]
    },
    {
     "data": {
      "text/plain": [
       "'Answer best excuse anger bootless and\\nHath sequent daily i be that i fair\\nTo say my deeds to seek but awakes my\\nOr give of to return part and i her\\nFound to knows to becoming gavst thou pine\\nHis were i mercy thee civil thee hang\\nShall as thy thought if thy shadow to praise\\nThereby that and did virtue that silver\\nWrinkles own shames be i found my outward\\nSpeechless saucy sick with thy dearest from\\nKeeps from hopes by this fair and the greater\\nBarren invention passed weeds who guard more\\nThey conceit in times trust that i seek her\\nMy me with them lives their his vassal of\\n'"
      ]
     },
     "execution_count": 6,
     "metadata": {},
     "output_type": "execute_result"
    }
   ],
   "source": [
    "sample_sonnet(hmm, obs_map)"
   ]
  },
  {
   "cell_type": "code",
   "execution_count": 3,
   "metadata": {},
   "outputs": [
    {
     "name": "stderr",
     "output_type": "stream",
     "text": [
      "100%|██████████████████████████████████████████████████████████████████████████| 10000/10000 [6:01:32<00:00,  2.17s/it]\n"
     ]
    },
    {
     "name": "stdout",
     "output_type": "stream",
     "text": [
      "Leave seeting even gave their sight which best\n",
      "Such masonry beauteous base thine day to\n",
      "Pilgrimage tongue one of of the even\n",
      "Precious he i doth not waking wail the\n",
      "No due simple even nourished love to\n",
      "Fresh would such mind are straight war my tender\n",
      "You love heaven do wondrous proud marvel\n",
      "A end in sound he though thy beauteous sum\n",
      "That faults that flatter with you fill see your\n",
      "Threw a is moiety nearly love a me\n",
      "Love being forlorn mind the eyes of heart\n",
      "Lovst dost at made breast and until worthy\n",
      "Our eyes if i art i from knows thy\n",
      "Thy huswife with never sight witness time\n",
      "\n"
     ]
    }
   ],
   "source": [
    "hmm2 = unsupervised_HMM(obs, 10, 10000)\n",
    "sample_sonnet(hmm2, obs_map)"
   ]
  }
 ],
 "metadata": {
  "kernelspec": {
   "display_name": "Python 3",
   "language": "python",
   "name": "python3"
  },
  "language_info": {
   "codemirror_mode": {
    "name": "ipython",
    "version": 3
   },
   "file_extension": ".py",
   "mimetype": "text/x-python",
   "name": "python",
   "nbconvert_exporter": "python",
   "pygments_lexer": "ipython3",
   "version": "3.7.4"
  }
 },
 "nbformat": 4,
 "nbformat_minor": 4
}
